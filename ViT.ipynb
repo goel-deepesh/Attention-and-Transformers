{
  "cells": [
    {
      "cell_type": "markdown",
      "metadata": {
        "id": "nQgfvQ4tT-ou"
      },
      "source": [
        "## Vision Transformer (ViT)\n",
        "\n",
        "In this assignment we're going to work with Vision Transformer. We will start to build our own vit model and train it on an image classification task.\n",
        "The purpose of this homework is for you to get familar with ViT and get prepared for the final project."
      ]
    },
    {
      "cell_type": "code",
      "execution_count": 1,
      "metadata": {
        "id": "nFR6WFmfxw43"
      },
      "outputs": [],
      "source": [
        "import math\n",
        "\n",
        "import torch\n",
        "import torch.nn as nn\n",
        "import torch.nn.functional as F\n",
        "from torchvision import datasets, transforms"
      ]
    },
    {
      "cell_type": "code",
      "execution_count": 2,
      "metadata": {
        "colab": {
          "base_uri": "https://localhost:8080/"
        },
        "id": "xGv2wu1MyAPC",
        "outputId": "2aa2083e-a62d-41b4-8c3a-e0f8b239a34e"
      },
      "outputs": [
        {
          "output_type": "stream",
          "name": "stdout",
          "text": [
            "cuda\n"
          ]
        }
      ],
      "source": [
        "device = torch.device(\"cuda\" if torch.cuda.is_available() else \"cpu\")\n",
        "print(device)"
      ]
    },
    {
      "cell_type": "markdown",
      "metadata": {
        "id": "MmNi93C-4rLb"
      },
      "source": [
        "# VIT Implementation\n",
        "\n",
        "The vision transformer can be seperated into three parts, we will implement each part and combine them in the end.\n",
        "\n",
        "For the implementation, feel free to experiment different kinds of setup, as long as you use attention as the main computation unit and the ViT can be train to perform the image classification task present later.\n",
        "You can read about the ViT implement from other libary: https://github.com/huggingface/pytorch-image-models/blob/main/timm/models/vision_transformer.py and https://github.com/pytorch/vision/blob/main/torchvision/models/vision_transformer.py"
      ]
    },
    {
      "cell_type": "markdown",
      "metadata": {
        "id": "UNEtT9SQ4jgx"
      },
      "source": [
        "## PatchEmbedding\n",
        "PatchEmbedding is responsible for dividing the input image into non-overlapping patches and projecting them into a specified embedding dimension. It uses a 2D convolution layer with a kernel size and stride equal to the patch size. The output is a sequence of linear embeddings for each patch."
      ]
    },
    {
      "cell_type": "code",
      "execution_count": 3,
      "metadata": {
        "id": "rAzsdK5YybDa"
      },
      "outputs": [],
      "source": [
        "class PatchEmbedding(nn.Module):\n",
        "    def __init__(self, image_size, patch_size, in_channels, embed_dim):\n",
        "        super(PatchEmbedding, self).__init__()\n",
        "        self.num_patches = (image_size // patch_size) ** 2\n",
        "        self.proj = nn.Conv2d(in_channels, embed_dim, kernel_size=patch_size, stride=patch_size)\n",
        "\n",
        "    def forward(self, x):\n",
        "        x = self.proj(x)\n",
        "        x = x.flatten(2).transpose(1, 2)\n",
        "        return x"
      ]
    },
    {
      "cell_type": "markdown",
      "metadata": {
        "id": "1mk8v66y6MAS"
      },
      "source": [
        "## MultiHeadSelfAttention\n",
        "\n",
        "This class implements the multi-head self-attention mechanism, which is a key component of the transformer architecture. It consists of multiple attention heads that independently compute scaled dot-product attention on the input embeddings. This allows the model to capture different aspects of the input at different positions. The attention outputs are concatenated and linearly transformed back to the original embedding size."
      ]
    },
    {
      "cell_type": "code",
      "execution_count": 4,
      "metadata": {
        "id": "V1LeAZq-0dQW"
      },
      "outputs": [],
      "source": [
        "class MultiHeadSelfAttention(nn.Module):\n",
        "    def __init__(self, embed_dim, num_heads):\n",
        "        super(MultiHeadSelfAttention, self).__init__()\n",
        "        self.embed_dim = embed_dim\n",
        "        self.num_heads = num_heads\n",
        "        self.head_dim = embed_dim // num_heads\n",
        "        assert self.head_dim * num_heads == embed_dim, \"embed_dim must be divisible by num_heads\"\n",
        "\n",
        "        self.qkv_proj = nn.Linear(embed_dim, embed_dim * 3)\n",
        "        self.out_proj = nn.Linear(embed_dim, embed_dim)\n",
        "        self.scale = self.head_dim ** -0.5\n",
        "\n",
        "    def forward(self, x):\n",
        "        batch_size, seq_length, embed_dim = x.size()\n",
        "        qkv = self.qkv_proj(x)\n",
        "        qkv = qkv.reshape(batch_size, seq_length, 3, self.num_heads, self.head_dim)\n",
        "        qkv = qkv.permute(2, 0, 3, 1, 4)\n",
        "        q, k, v = qkv[0], qkv[1], qkv[2]\n",
        "\n",
        "        attn_scores = torch.matmul(q, k.transpose(-2, -1)) * self.scale\n",
        "        attn_probs = F.softmax(attn_scores, dim=-1)\n",
        "\n",
        "        attn_output = torch.matmul(attn_probs, v)\n",
        "        attn_output = attn_output.transpose(1, 2).reshape(batch_size, seq_length, embed_dim)\n",
        "\n",
        "        output = self.out_proj(attn_output)\n",
        "        return output"
      ]
    },
    {
      "cell_type": "markdown",
      "metadata": {
        "id": "NCAURJGJ6jhH"
      },
      "source": [
        "## TransformerBlock\n",
        "This class represents a single transformer layer. It includes a multi-head self-attention sublayer followed by a position-wise feed-forward network (MLP). Each sublayer is surrounded by residual connections.\n",
        "You may also want to use layer normalization or other type of normalization."
      ]
    },
    {
      "cell_type": "code",
      "execution_count": 5,
      "metadata": {
        "id": "0rT15Biv6igC"
      },
      "outputs": [],
      "source": [
        "class TransformerBlock(nn.Module):\n",
        "    def __init__(self, embed_dim, num_heads, mlp_dim, dropout):\n",
        "        super(TransformerBlock, self).__init__()\n",
        "        self.norm1 = nn.LayerNorm(embed_dim)\n",
        "        self.attn = MultiHeadSelfAttention(embed_dim, num_heads)\n",
        "        self.dropout1 = nn.Dropout(dropout)\n",
        "\n",
        "        self.norm2 = nn.LayerNorm(embed_dim)\n",
        "        self.mlp = nn.Sequential(\n",
        "            nn.Linear(embed_dim, mlp_dim),\n",
        "            nn.GELU(),\n",
        "            nn.Dropout(dropout),\n",
        "            nn.Linear(mlp_dim, embed_dim),\n",
        "            nn.Dropout(dropout)\n",
        "        )\n",
        "\n",
        "    def forward(self, x):\n",
        "        residual = x\n",
        "        x = self.norm1(x)\n",
        "        x = self.attn(x)\n",
        "        x = self.dropout1(x)\n",
        "        x = x + residual\n",
        "\n",
        "        residual = x\n",
        "        x = self.norm2(x)\n",
        "        x = self.mlp(x)\n",
        "        x = x + residual\n",
        "        return x"
      ]
    },
    {
      "cell_type": "markdown",
      "metadata": {
        "id": "rgLfJRUm7EDq"
      },
      "source": [
        "## VisionTransformer:\n",
        "This is the main class that assembles the entire Vision Transformer architecture. It starts with the PatchEmbedding layer to create patch embeddings from the input image. A special class token is added to the sequence, and positional embeddings are added to both the patch and class tokens. The sequence of patch embeddings is then passed through multiple TransformerBlock layers. The final output is the logits for all classes"
      ]
    },
    {
      "cell_type": "code",
      "execution_count": 6,
      "metadata": {
        "id": "tgute9Ab0QP4"
      },
      "outputs": [],
      "source": [
        "class VisionTransformer(nn.Module):\n",
        "    def __init__(self, image_size, patch_size, in_channels, embed_dim, num_heads, mlp_dim, num_layers, num_classes, dropout=0.1):\n",
        "        super(VisionTransformer, self).__init__()\n",
        "        self.patch_embed = PatchEmbedding(image_size, patch_size, in_channels, embed_dim)\n",
        "        num_patches = (image_size // patch_size) ** 2\n",
        "\n",
        "        self.cls_token = nn.Parameter(torch.zeros(1, 1, embed_dim))\n",
        "\n",
        "        self.pos_embed = nn.Parameter(torch.zeros(1, num_patches + 1, embed_dim))\n",
        "        self.dropout = nn.Dropout(dropout)\n",
        "\n",
        "        self.blocks = nn.ModuleList([\n",
        "            TransformerBlock(embed_dim, num_heads, mlp_dim, dropout)\n",
        "            for _ in range(num_layers)\n",
        "        ])\n",
        "\n",
        "        self.norm = nn.LayerNorm(embed_dim)\n",
        "        self.head = nn.Linear(embed_dim, num_classes)\n",
        "\n",
        "    def forward(self, x):\n",
        "        x = self.patch_embed(x)\n",
        "        batch_size = x.size(0)\n",
        "\n",
        "        cls_tokens = self.cls_token.expand(batch_size, -1, -1)\n",
        "        x = torch.cat((cls_tokens, x), dim=1)\n",
        "\n",
        "        x = x + self.pos_embed\n",
        "        x = self.dropout(x)\n",
        "\n",
        "        for block in self.blocks:\n",
        "            x = block(x)\n",
        "\n",
        "        x = self.norm(x)\n",
        "        cls_output = x[:, 0]\n",
        "        logits = self.head(cls_output)\n",
        "        return logits"
      ]
    },
    {
      "cell_type": "markdown",
      "metadata": {
        "id": "lROdKoO37Uqb"
      },
      "source": [
        "## Let's train the ViT!\n",
        "\n",
        "We will train the vit to do the image classification with cifar100. Free free to change the optimizer and or add other tricks to improve the training"
      ]
    },
    {
      "cell_type": "code",
      "execution_count": 7,
      "metadata": {
        "id": "byAC841ix_lb"
      },
      "outputs": [],
      "source": [
        "# Example usage:\n",
        "image_size = 32\n",
        "patch_size = 4\n",
        "in_channels = 3\n",
        "embed_dim = 256\n",
        "num_heads = 8\n",
        "mlp_dim = 512\n",
        "num_layers = 6\n",
        "num_classes = 100\n",
        "dropout = 0.1\n",
        "\n",
        "batch_size = 64"
      ]
    },
    {
      "cell_type": "code",
      "execution_count": 8,
      "metadata": {
        "colab": {
          "base_uri": "https://localhost:8080/"
        },
        "id": "1V14TFbM8x4l",
        "outputId": "e5476d41-9039-40a9-c9b2-50a2c5485638"
      },
      "outputs": [
        {
          "output_type": "stream",
          "name": "stdout",
          "text": [
            "torch.Size([1, 100])\n"
          ]
        }
      ],
      "source": [
        "model = VisionTransformer(image_size, patch_size, in_channels, embed_dim, num_heads, mlp_dim, num_layers, num_classes, dropout).to(device)\n",
        "input_tensor = torch.randn(1, in_channels, image_size, image_size).to(device)\n",
        "output = model(input_tensor)\n",
        "print(output.shape)"
      ]
    },
    {
      "cell_type": "code",
      "execution_count": 9,
      "metadata": {
        "colab": {
          "base_uri": "https://localhost:8080/"
        },
        "id": "3BOp450mdC-D",
        "outputId": "33866b4e-75f0-4c4f-cd01-2398a5a0a48e"
      },
      "outputs": [
        {
          "output_type": "stream",
          "name": "stdout",
          "text": [
            "Downloading https://www.cs.toronto.edu/~kriz/cifar-100-python.tar.gz to ./data/cifar-100-python.tar.gz\n"
          ]
        },
        {
          "output_type": "stream",
          "name": "stderr",
          "text": [
            "100%|██████████| 169M/169M [00:03<00:00, 44.6MB/s]\n"
          ]
        },
        {
          "output_type": "stream",
          "name": "stdout",
          "text": [
            "Extracting ./data/cifar-100-python.tar.gz to ./data\n",
            "Files already downloaded and verified\n"
          ]
        }
      ],
      "source": [
        "# Load the CIFAR-100 dataset\n",
        "transform_train = transforms.Compose([\n",
        "    transforms.RandomCrop(32, padding=4),\n",
        "    transforms.Resize(image_size),\n",
        "    transforms.RandomHorizontalFlip(),\n",
        "    transforms.ToTensor(),\n",
        "    transforms.Normalize((0.4914, 0.4822, 0.4465), (0.2023, 0.1994, 0.2010)),\n",
        "])\n",
        "\n",
        "transform_test = transforms.Compose([\n",
        "    transforms.Resize(image_size),\n",
        "    transforms.ToTensor(),\n",
        "    transforms.Normalize((0.4914, 0.4822, 0.4465), (0.2023, 0.1994, 0.2010)),\n",
        "])\n",
        "\n",
        "trainset = datasets.CIFAR100(root='./data', train=True, download=True, transform=transform_train)\n",
        "testset = datasets.CIFAR100(root='./data', train=False, download=True, transform=transform_test)\n",
        "\n",
        "trainloader = torch.utils.data.DataLoader(trainset, batch_size=batch_size, shuffle=True, num_workers=2)\n",
        "testloader = torch.utils.data.DataLoader(testset, batch_size=batch_size, shuffle=False, num_workers=2)"
      ]
    },
    {
      "cell_type": "code",
      "execution_count": 10,
      "metadata": {
        "id": "4s8-X4l-exSg"
      },
      "outputs": [],
      "source": [
        "# Define the loss function and optimizer\n",
        "# criterion = nn.CrossEntropyLoss()\n",
        "# optimizer = torch.optim.AdamW(model.parameters(), lr=3e-4, weight_decay=0.05)"
      ]
    },
    {
      "cell_type": "code",
      "execution_count": 12,
      "metadata": {
        "id": "eOyk345ve5HN",
        "colab": {
          "base_uri": "https://localhost:8080/"
        },
        "outputId": "b1511a29-93bd-4926-b155-a8d93cee0eaf"
      },
      "outputs": [
        {
          "output_type": "stream",
          "name": "stdout",
          "text": [
            "Epoch: 1, Avg Loss: 0.982, Validation Accuracy: 58.94%, LR: 0.000120\n",
            "Saved Best Model!\n",
            "Epoch: 2, Avg Loss: 1.050, Validation Accuracy: 57.82%, LR: 0.000180\n",
            "Epoch: 3, Avg Loss: 1.141, Validation Accuracy: 56.21%, LR: 0.000240\n",
            "Epoch: 4, Avg Loss: 1.235, Validation Accuracy: 55.57%, LR: 0.000300\n",
            "Epoch: 5, Avg Loss: 1.321, Validation Accuracy: 54.61%, LR: 0.000300\n",
            "Epoch: 6, Avg Loss: 1.300, Validation Accuracy: 55.38%, LR: 0.000300\n",
            "Epoch: 7, Avg Loss: 1.290, Validation Accuracy: 55.74%, LR: 0.000300\n",
            "Epoch: 8, Avg Loss: 1.281, Validation Accuracy: 55.31%, LR: 0.000299\n",
            "Epoch: 9, Avg Loss: 1.272, Validation Accuracy: 54.92%, LR: 0.000299\n",
            "Epoch: 10, Avg Loss: 1.262, Validation Accuracy: 56.09%, LR: 0.000299\n",
            "Epoch: 11, Avg Loss: 1.253, Validation Accuracy: 55.79%, LR: 0.000298\n",
            "Epoch: 12, Avg Loss: 1.245, Validation Accuracy: 55.35%, LR: 0.000297\n",
            "Epoch: 13, Avg Loss: 1.239, Validation Accuracy: 55.78%, LR: 0.000296\n",
            "Epoch: 14, Avg Loss: 1.233, Validation Accuracy: 56.06%, LR: 0.000295\n",
            "Epoch: 15, Avg Loss: 1.222, Validation Accuracy: 56.34%, LR: 0.000294\n",
            "Epoch: 16, Avg Loss: 1.217, Validation Accuracy: 55.96%, LR: 0.000293\n",
            "Epoch: 17, Avg Loss: 1.201, Validation Accuracy: 56.08%, LR: 0.000292\n",
            "Epoch: 18, Avg Loss: 1.197, Validation Accuracy: 56.34%, LR: 0.000291\n",
            "Epoch: 19, Avg Loss: 1.189, Validation Accuracy: 56.04%, LR: 0.000289\n",
            "Epoch: 20, Avg Loss: 1.186, Validation Accuracy: 55.56%, LR: 0.000288\n",
            "Epoch: 21, Avg Loss: 1.171, Validation Accuracy: 56.43%, LR: 0.000286\n",
            "Epoch: 22, Avg Loss: 1.164, Validation Accuracy: 56.22%, LR: 0.000284\n",
            "Epoch: 23, Avg Loss: 1.159, Validation Accuracy: 56.55%, LR: 0.000282\n",
            "Epoch: 24, Avg Loss: 1.149, Validation Accuracy: 56.59%, LR: 0.000280\n",
            "Epoch: 25, Avg Loss: 1.141, Validation Accuracy: 56.22%, LR: 0.000278\n",
            "Epoch: 26, Avg Loss: 1.138, Validation Accuracy: 56.32%, LR: 0.000276\n",
            "Epoch: 27, Avg Loss: 1.122, Validation Accuracy: 57.15%, LR: 0.000274\n",
            "Epoch: 28, Avg Loss: 1.129, Validation Accuracy: 56.41%, LR: 0.000271\n",
            "Epoch: 29, Avg Loss: 1.113, Validation Accuracy: 56.23%, LR: 0.000269\n",
            "Epoch: 30, Avg Loss: 1.109, Validation Accuracy: 56.75%, LR: 0.000266\n",
            "Epoch: 31, Avg Loss: 1.099, Validation Accuracy: 56.66%, LR: 0.000264\n",
            "Epoch: 32, Avg Loss: 1.088, Validation Accuracy: 56.22%, LR: 0.000261\n",
            "Epoch: 33, Avg Loss: 1.087, Validation Accuracy: 56.92%, LR: 0.000258\n",
            "Epoch: 34, Avg Loss: 1.083, Validation Accuracy: 56.61%, LR: 0.000255\n",
            "Epoch: 35, Avg Loss: 1.079, Validation Accuracy: 56.82%, LR: 0.000252\n",
            "Epoch: 36, Avg Loss: 1.072, Validation Accuracy: 56.86%, LR: 0.000249\n",
            "Epoch: 37, Avg Loss: 1.064, Validation Accuracy: 56.39%, LR: 0.000246\n",
            "Epoch: 38, Avg Loss: 1.057, Validation Accuracy: 57.31%, LR: 0.000243\n",
            "Epoch: 39, Avg Loss: 1.054, Validation Accuracy: 56.94%, LR: 0.000240\n",
            "Epoch: 40, Avg Loss: 1.048, Validation Accuracy: 57.47%, LR: 0.000237\n",
            "Epoch: 41, Avg Loss: 1.041, Validation Accuracy: 57.01%, LR: 0.000233\n",
            "Epoch: 42, Avg Loss: 1.039, Validation Accuracy: 57.76%, LR: 0.000230\n",
            "Epoch: 43, Avg Loss: 1.031, Validation Accuracy: 57.18%, LR: 0.000226\n",
            "Epoch: 44, Avg Loss: 1.024, Validation Accuracy: 57.43%, LR: 0.000223\n",
            "Epoch: 45, Avg Loss: 1.017, Validation Accuracy: 57.12%, LR: 0.000219\n",
            "Epoch: 46, Avg Loss: 1.012, Validation Accuracy: 57.38%, LR: 0.000215\n",
            "Epoch: 47, Avg Loss: 1.007, Validation Accuracy: 57.62%, LR: 0.000212\n",
            "Epoch: 48, Avg Loss: 0.998, Validation Accuracy: 56.49%, LR: 0.000208\n",
            "Epoch: 49, Avg Loss: 0.999, Validation Accuracy: 57.47%, LR: 0.000204\n",
            "Epoch: 50, Avg Loss: 0.989, Validation Accuracy: 57.59%, LR: 0.000200\n",
            "Epoch: 51, Avg Loss: 0.979, Validation Accuracy: 57.45%, LR: 0.000196\n",
            "Epoch: 52, Avg Loss: 0.981, Validation Accuracy: 58.39%, LR: 0.000192\n",
            "Epoch: 53, Avg Loss: 0.978, Validation Accuracy: 57.53%, LR: 0.000188\n",
            "Epoch: 54, Avg Loss: 0.972, Validation Accuracy: 57.77%, LR: 0.000185\n",
            "Epoch: 55, Avg Loss: 0.963, Validation Accuracy: 58.29%, LR: 0.000181\n",
            "Epoch: 56, Avg Loss: 0.961, Validation Accuracy: 58.27%, LR: 0.000176\n",
            "Epoch: 57, Avg Loss: 0.956, Validation Accuracy: 58.34%, LR: 0.000172\n",
            "Epoch: 58, Avg Loss: 0.946, Validation Accuracy: 57.91%, LR: 0.000168\n",
            "Epoch: 59, Avg Loss: 0.943, Validation Accuracy: 58.16%, LR: 0.000164\n",
            "Epoch: 60, Avg Loss: 0.942, Validation Accuracy: 57.77%, LR: 0.000160\n",
            "Epoch: 61, Avg Loss: 0.936, Validation Accuracy: 58.23%, LR: 0.000156\n",
            "Epoch: 62, Avg Loss: 0.928, Validation Accuracy: 58.10%, LR: 0.000152\n",
            "Epoch: 63, Avg Loss: 0.924, Validation Accuracy: 58.63%, LR: 0.000148\n",
            "Epoch: 64, Avg Loss: 0.918, Validation Accuracy: 57.84%, LR: 0.000144\n",
            "Epoch: 65, Avg Loss: 0.916, Validation Accuracy: 58.38%, LR: 0.000140\n",
            "Epoch: 66, Avg Loss: 0.914, Validation Accuracy: 57.77%, LR: 0.000136\n",
            "Epoch: 67, Avg Loss: 0.908, Validation Accuracy: 58.05%, LR: 0.000132\n",
            "Epoch: 68, Avg Loss: 0.902, Validation Accuracy: 58.60%, LR: 0.000128\n",
            "Epoch: 69, Avg Loss: 0.899, Validation Accuracy: 58.56%, LR: 0.000124\n",
            "Epoch: 70, Avg Loss: 0.896, Validation Accuracy: 58.30%, LR: 0.000119\n",
            "Epoch: 71, Avg Loss: 0.890, Validation Accuracy: 58.58%, LR: 0.000115\n",
            "Epoch: 72, Avg Loss: 0.886, Validation Accuracy: 58.32%, LR: 0.000112\n",
            "Epoch: 73, Avg Loss: 0.882, Validation Accuracy: 58.40%, LR: 0.000108\n",
            "Epoch: 74, Avg Loss: 0.880, Validation Accuracy: 58.75%, LR: 0.000104\n",
            "Epoch: 75, Avg Loss: 0.877, Validation Accuracy: 58.52%, LR: 0.000100\n",
            "Epoch: 76, Avg Loss: 0.872, Validation Accuracy: 58.93%, LR: 0.000096\n",
            "Epoch: 77, Avg Loss: 0.868, Validation Accuracy: 58.52%, LR: 0.000092\n",
            "Epoch: 78, Avg Loss: 0.866, Validation Accuracy: 58.98%, LR: 0.000088\n",
            "Saved Best Model!\n",
            "Epoch: 79, Avg Loss: 0.863, Validation Accuracy: 58.96%, LR: 0.000085\n",
            "Epoch: 80, Avg Loss: 0.860, Validation Accuracy: 59.19%, LR: 0.000081\n",
            "Saved Best Model!\n",
            "Epoch: 81, Avg Loss: 0.855, Validation Accuracy: 58.58%, LR: 0.000077\n",
            "Epoch: 82, Avg Loss: 0.852, Validation Accuracy: 58.93%, LR: 0.000074\n",
            "Epoch: 83, Avg Loss: 0.852, Validation Accuracy: 58.77%, LR: 0.000070\n",
            "Epoch: 84, Avg Loss: 0.848, Validation Accuracy: 59.40%, LR: 0.000067\n",
            "Saved Best Model!\n",
            "Epoch: 85, Avg Loss: 0.844, Validation Accuracy: 59.47%, LR: 0.000063\n",
            "Saved Best Model!\n",
            "Epoch: 86, Avg Loss: 0.843, Validation Accuracy: 59.34%, LR: 0.000060\n",
            "Epoch: 87, Avg Loss: 0.840, Validation Accuracy: 59.58%, LR: 0.000057\n",
            "Saved Best Model!\n",
            "Epoch: 88, Avg Loss: 0.836, Validation Accuracy: 59.92%, LR: 0.000054\n",
            "Saved Best Model!\n",
            "Epoch: 89, Avg Loss: 0.834, Validation Accuracy: 59.20%, LR: 0.000051\n",
            "Epoch: 90, Avg Loss: 0.833, Validation Accuracy: 59.30%, LR: 0.000048\n",
            "Epoch: 91, Avg Loss: 0.830, Validation Accuracy: 59.23%, LR: 0.000045\n",
            "Epoch: 92, Avg Loss: 0.829, Validation Accuracy: 59.81%, LR: 0.000042\n",
            "Epoch: 93, Avg Loss: 0.825, Validation Accuracy: 59.59%, LR: 0.000039\n",
            "Epoch: 94, Avg Loss: 0.824, Validation Accuracy: 59.80%, LR: 0.000036\n",
            "Epoch: 95, Avg Loss: 0.823, Validation Accuracy: 59.59%, LR: 0.000034\n",
            "Epoch: 96, Avg Loss: 0.822, Validation Accuracy: 59.48%, LR: 0.000031\n",
            "Epoch: 97, Avg Loss: 0.820, Validation Accuracy: 59.86%, LR: 0.000029\n",
            "Epoch: 98, Avg Loss: 0.819, Validation Accuracy: 59.73%, LR: 0.000026\n",
            "Epoch: 99, Avg Loss: 0.818, Validation Accuracy: 59.87%, LR: 0.000024\n",
            "Epoch: 100, Avg Loss: 0.816, Validation Accuracy: 60.13%, LR: 0.000022\n",
            "Saved Best Model!\n",
            "Epoch: 101, Avg Loss: 0.814, Validation Accuracy: 60.00%, LR: 0.000020\n",
            "Epoch: 102, Avg Loss: 0.813, Validation Accuracy: 59.91%, LR: 0.000018\n",
            "Epoch: 103, Avg Loss: 0.812, Validation Accuracy: 59.91%, LR: 0.000016\n",
            "Epoch: 104, Avg Loss: 0.812, Validation Accuracy: 60.15%, LR: 0.000014\n",
            "Saved Best Model!\n",
            "Epoch: 105, Avg Loss: 0.810, Validation Accuracy: 60.18%, LR: 0.000012\n",
            "Saved Best Model!\n",
            "Epoch: 106, Avg Loss: 0.809, Validation Accuracy: 59.95%, LR: 0.000011\n",
            "Epoch: 107, Avg Loss: 0.809, Validation Accuracy: 60.21%, LR: 0.000009\n",
            "Saved Best Model!\n",
            "Epoch: 108, Avg Loss: 0.809, Validation Accuracy: 60.19%, LR: 0.000008\n",
            "Epoch: 109, Avg Loss: 0.809, Validation Accuracy: 60.19%, LR: 0.000007\n",
            "Epoch: 110, Avg Loss: 0.809, Validation Accuracy: 60.35%, LR: 0.000006\n",
            "Saved Best Model!\n",
            "Epoch: 111, Avg Loss: 0.806, Validation Accuracy: 60.14%, LR: 0.000005\n",
            "Epoch: 112, Avg Loss: 0.806, Validation Accuracy: 60.34%, LR: 0.000004\n",
            "Epoch: 113, Avg Loss: 0.807, Validation Accuracy: 60.53%, LR: 0.000003\n",
            "Saved Best Model!\n",
            "Epoch: 114, Avg Loss: 0.806, Validation Accuracy: 60.29%, LR: 0.000002\n",
            "Epoch: 115, Avg Loss: 0.806, Validation Accuracy: 60.40%, LR: 0.000001\n",
            "Epoch: 116, Avg Loss: 0.806, Validation Accuracy: 60.45%, LR: 0.000001\n",
            "Epoch: 117, Avg Loss: 0.805, Validation Accuracy: 60.46%, LR: 0.000001\n",
            "Epoch: 118, Avg Loss: 0.806, Validation Accuracy: 60.41%, LR: 0.000000\n",
            "Epoch: 119, Avg Loss: 0.806, Validation Accuracy: 60.40%, LR: 0.000000\n",
            "Epoch: 120, Avg Loss: 0.805, Validation Accuracy: 60.39%, LR: 0.000000\n"
          ]
        }
      ],
      "source": [
        "num_epochs = 120\n",
        "warmup_epochs = 5\n",
        "initial_lr = 3e-4\n",
        "\n",
        "# Use label smoothing in the loss function\n",
        "criterion = nn.CrossEntropyLoss(label_smoothing=0.1)\n",
        "\n",
        "optimizer = torch.optim.AdamW(model.parameters(), lr=initial_lr, weight_decay=0.05)\n",
        "\n",
        "# Define a lambda function for learning rate warmup followed by cosine annealing\n",
        "def lr_lambda(epoch):\n",
        "    if epoch < warmup_epochs:\n",
        "        # Linear warmup\n",
        "        return float(epoch + 1) / warmup_epochs\n",
        "    else:\n",
        "        # Cosine annealing for the remaining epochs\n",
        "        return 0.5 * (1 + math.cos(math.pi * (epoch - warmup_epochs) / (num_epochs - warmup_epochs)))\n",
        "\n",
        "scheduler = torch.optim.lr_scheduler.LambdaLR(optimizer, lr_lambda=lr_lambda)\n",
        "\n",
        "best_val_acc = 0\n",
        "for epoch in range(num_epochs):\n",
        "    model.train()\n",
        "    running_loss = 0.0\n",
        "    num_batches = 0\n",
        "    for data in trainloader:\n",
        "        inputs, labels = data\n",
        "        inputs, labels = inputs.to(device), labels.to(device)\n",
        "\n",
        "        optimizer.zero_grad()\n",
        "        outputs = model(inputs)\n",
        "        loss = criterion(outputs, labels)\n",
        "        loss.backward()\n",
        "        optimizer.step()\n",
        "\n",
        "        running_loss += loss.item()\n",
        "        num_batches += 1\n",
        "\n",
        "    avg_loss = running_loss / num_batches\n",
        "    scheduler.step()\n",
        "\n",
        "    # Validate the model\n",
        "    model.eval()\n",
        "    correct = 0\n",
        "    total = 0\n",
        "    with torch.no_grad():\n",
        "        for data in testloader:\n",
        "            images, labels = data\n",
        "            images, labels = images.to(device), labels.to(device)\n",
        "            outputs = model(images)\n",
        "            _, predicted = torch.max(outputs.data, 1)\n",
        "            total += labels.size(0)\n",
        "            correct += (predicted == labels).sum().item()\n",
        "    val_acc = 100 * correct / total\n",
        "    current_lr = scheduler.get_last_lr()[0]\n",
        "    print(f\"Epoch: {epoch+1}, Avg Loss: {avg_loss:.3f}, Validation Accuracy: {val_acc:.2f}%, LR: {current_lr:.6f}\")\n",
        "\n",
        "    # Save the best model\n",
        "    if val_acc > best_val_acc:\n",
        "        best_val_acc = val_acc\n",
        "        torch.save(model.state_dict(), \"best_model.pth\")\n",
        "        print(\"Saved Best Model!\")"
      ]
    },
    {
      "cell_type": "markdown",
      "metadata": {
        "id": "-AfNVj1U9xhk"
      },
      "source": [
        "Please submit your best_model.pth with this notebook. And report the best test results you get."
      ]
    }
  ],
  "metadata": {
    "accelerator": "GPU",
    "colab": {
      "gpuType": "T4",
      "provenance": []
    },
    "kernelspec": {
      "display_name": "Python 3",
      "name": "python3"
    },
    "language_info": {
      "codemirror_mode": {
        "name": "ipython",
        "version": 3
      },
      "file_extension": ".py",
      "mimetype": "text/x-python",
      "name": "python",
      "nbconvert_exporter": "python",
      "pygments_lexer": "ipython3",
      "version": "3.12.9"
    }
  },
  "nbformat": 4,
  "nbformat_minor": 0
}
